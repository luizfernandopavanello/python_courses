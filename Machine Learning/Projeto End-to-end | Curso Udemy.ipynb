{
 "cells": [
  {
   "cell_type": "code",
   "execution_count": 1,
   "id": "ec2609d7",
   "metadata": {
    "scrolled": true
   },
   "outputs": [
    {
     "name": "stdout",
     "output_type": "stream",
     "text": [
      "Defaulting to user installation because normal site-packages is not writeable\n",
      "Requirement already satisfied: seaborn in /home/treviit/.local/lib/python3.10/site-packages (0.11.2)\n",
      "Requirement already satisfied: numpy>=1.15 in /home/treviit/.local/lib/python3.10/site-packages (from seaborn) (1.23.3)\n",
      "Requirement already satisfied: matplotlib>=2.2 in /home/treviit/.local/lib/python3.10/site-packages (from seaborn) (3.6.0)\n",
      "Requirement already satisfied: scipy>=1.0 in /home/treviit/.local/lib/python3.10/site-packages (from seaborn) (1.9.1)\n",
      "Requirement already satisfied: pandas>=0.23 in /home/treviit/.local/lib/python3.10/site-packages (from seaborn) (1.4.2)\n",
      "Requirement already satisfied: kiwisolver>=1.0.1 in /home/treviit/.local/lib/python3.10/site-packages (from matplotlib>=2.2->seaborn) (1.4.4)\n",
      "Requirement already satisfied: fonttools>=4.22.0 in /home/treviit/.local/lib/python3.10/site-packages (from matplotlib>=2.2->seaborn) (4.37.2)\n",
      "Requirement already satisfied: python-dateutil>=2.7 in /home/treviit/.local/lib/python3.10/site-packages (from matplotlib>=2.2->seaborn) (2.8.2)\n",
      "Requirement already satisfied: cycler>=0.10 in /home/treviit/.local/lib/python3.10/site-packages (from matplotlib>=2.2->seaborn) (0.11.0)\n",
      "Requirement already satisfied: pillow>=6.2.0 in /home/treviit/.local/lib/python3.10/site-packages (from matplotlib>=2.2->seaborn) (9.2.0)\n",
      "Requirement already satisfied: packaging>=20.0 in /home/treviit/.local/lib/python3.10/site-packages (from matplotlib>=2.2->seaborn) (21.3)\n",
      "Requirement already satisfied: pyparsing>=2.2.1 in /usr/lib/python3/dist-packages (from matplotlib>=2.2->seaborn) (2.4.7)\n",
      "Requirement already satisfied: contourpy>=1.0.1 in /home/treviit/.local/lib/python3.10/site-packages (from matplotlib>=2.2->seaborn) (1.0.5)\n",
      "Requirement already satisfied: pytz>=2020.1 in /usr/lib/python3/dist-packages (from pandas>=0.23->seaborn) (2022.1)\n",
      "Requirement already satisfied: six>=1.5 in /usr/lib/python3/dist-packages (from python-dateutil>=2.7->matplotlib>=2.2->seaborn) (1.16.0)\n",
      "Note: you may need to restart the kernel to use updated packages.\n"
     ]
    }
   ],
   "source": [
    "pip install seaborn"
   ]
  },
  {
   "cell_type": "code",
   "execution_count": 2,
   "id": "f28ce60d",
   "metadata": {},
   "outputs": [],
   "source": [
    "# Libs necessárias\n",
    "import pandas as pd\n",
    "import numpy as np\n",
    "\n",
    "# Libs gráficas\n",
    "import matplotlib.pyplot as plt\n",
    "import seaborn as sns\n",
    "\n",
    "# Avisos\n",
    "import warnings\n",
    "warnings.filterwarnings('ignore')\n",
    "\n",
    "# Configuração no pandas\n",
    "pd.set_option('display.max_rows', 200)\n",
    "pd.set_option('display.max_columns', 100)\n",
    "\n",
    "# Configuração do Matplotlib\n",
    "plt.rcParams['figure.figsize'] = (15, 6)\n",
    "plt.style.use('seaborn-darkgrid')"
   ]
  },
  {
   "cell_type": "markdown",
   "id": "f69c866e",
   "metadata": {},
   "source": [
    "# **Exploração dos dados**"
   ]
  },
  {
   "cell_type": "code",
   "execution_count": 3,
   "id": "6388ed22",
   "metadata": {},
   "outputs": [],
   "source": [
    "# Pergunta em Aberto: Quanto vale o aluguel da sua cassa?"
   ]
  },
  {
   "cell_type": "code",
   "execution_count": 4,
   "id": "ed82269a",
   "metadata": {},
   "outputs": [
    {
     "data": {
      "text/plain": [
       "(10692, 13)"
      ]
     },
     "execution_count": 4,
     "metadata": {},
     "output_type": "execute_result"
    }
   ],
   "source": [
    "# Lendo os dados\n",
    "Base_Dados = pd.read_csv('house_data.csv')\n",
    "\n",
    "# Dimensão\n",
    "Base_Dados.shape"
   ]
  },
  {
   "cell_type": "code",
   "execution_count": 5,
   "id": "90e84694",
   "metadata": {},
   "outputs": [
    {
     "data": {
      "text/html": [
       "<div>\n",
       "<style scoped>\n",
       "    .dataframe tbody tr th:only-of-type {\n",
       "        vertical-align: middle;\n",
       "    }\n",
       "\n",
       "    .dataframe tbody tr th {\n",
       "        vertical-align: top;\n",
       "    }\n",
       "\n",
       "    .dataframe thead th {\n",
       "        text-align: right;\n",
       "    }\n",
       "</style>\n",
       "<table border=\"1\" class=\"dataframe\">\n",
       "  <thead>\n",
       "    <tr style=\"text-align: right;\">\n",
       "      <th></th>\n",
       "      <th>city</th>\n",
       "      <th>area</th>\n",
       "      <th>rooms</th>\n",
       "      <th>bathroom</th>\n",
       "      <th>parking spaces</th>\n",
       "      <th>floor</th>\n",
       "      <th>animal</th>\n",
       "      <th>furniture</th>\n",
       "      <th>hoa (R$)</th>\n",
       "      <th>rent amount (R$)</th>\n",
       "      <th>property tax (R$)</th>\n",
       "      <th>fire insurance (R$)</th>\n",
       "      <th>total (R$)</th>\n",
       "    </tr>\n",
       "  </thead>\n",
       "  <tbody>\n",
       "    <tr>\n",
       "      <th>0</th>\n",
       "      <td>São Paulo</td>\n",
       "      <td>70</td>\n",
       "      <td>2</td>\n",
       "      <td>1</td>\n",
       "      <td>1</td>\n",
       "      <td>7</td>\n",
       "      <td>acept</td>\n",
       "      <td>furnished</td>\n",
       "      <td>2065</td>\n",
       "      <td>3300</td>\n",
       "      <td>211</td>\n",
       "      <td>42</td>\n",
       "      <td>5618</td>\n",
       "    </tr>\n",
       "    <tr>\n",
       "      <th>1</th>\n",
       "      <td>São Paulo</td>\n",
       "      <td>320</td>\n",
       "      <td>4</td>\n",
       "      <td>4</td>\n",
       "      <td>0</td>\n",
       "      <td>20</td>\n",
       "      <td>acept</td>\n",
       "      <td>not furnished</td>\n",
       "      <td>1200</td>\n",
       "      <td>4960</td>\n",
       "      <td>1750</td>\n",
       "      <td>63</td>\n",
       "      <td>7973</td>\n",
       "    </tr>\n",
       "    <tr>\n",
       "      <th>2</th>\n",
       "      <td>Porto Alegre</td>\n",
       "      <td>80</td>\n",
       "      <td>1</td>\n",
       "      <td>1</td>\n",
       "      <td>1</td>\n",
       "      <td>6</td>\n",
       "      <td>acept</td>\n",
       "      <td>not furnished</td>\n",
       "      <td>1000</td>\n",
       "      <td>2800</td>\n",
       "      <td>0</td>\n",
       "      <td>41</td>\n",
       "      <td>3841</td>\n",
       "    </tr>\n",
       "    <tr>\n",
       "      <th>3</th>\n",
       "      <td>Porto Alegre</td>\n",
       "      <td>51</td>\n",
       "      <td>2</td>\n",
       "      <td>1</td>\n",
       "      <td>0</td>\n",
       "      <td>2</td>\n",
       "      <td>acept</td>\n",
       "      <td>not furnished</td>\n",
       "      <td>270</td>\n",
       "      <td>1112</td>\n",
       "      <td>22</td>\n",
       "      <td>17</td>\n",
       "      <td>1421</td>\n",
       "    </tr>\n",
       "    <tr>\n",
       "      <th>4</th>\n",
       "      <td>São Paulo</td>\n",
       "      <td>25</td>\n",
       "      <td>1</td>\n",
       "      <td>1</td>\n",
       "      <td>0</td>\n",
       "      <td>1</td>\n",
       "      <td>not acept</td>\n",
       "      <td>not furnished</td>\n",
       "      <td>0</td>\n",
       "      <td>800</td>\n",
       "      <td>25</td>\n",
       "      <td>11</td>\n",
       "      <td>836</td>\n",
       "    </tr>\n",
       "  </tbody>\n",
       "</table>\n",
       "</div>"
      ],
      "text/plain": [
       "           city  area  rooms  bathroom  parking spaces floor     animal  \\\n",
       "0     São Paulo    70      2         1               1     7      acept   \n",
       "1     São Paulo   320      4         4               0    20      acept   \n",
       "2  Porto Alegre    80      1         1               1     6      acept   \n",
       "3  Porto Alegre    51      2         1               0     2      acept   \n",
       "4     São Paulo    25      1         1               0     1  not acept   \n",
       "\n",
       "       furniture  hoa (R$)  rent amount (R$)  property tax (R$)  \\\n",
       "0      furnished      2065              3300                211   \n",
       "1  not furnished      1200              4960               1750   \n",
       "2  not furnished      1000              2800                  0   \n",
       "3  not furnished       270              1112                 22   \n",
       "4  not furnished         0               800                 25   \n",
       "\n",
       "   fire insurance (R$)  total (R$)  \n",
       "0                   42        5618  \n",
       "1                   63        7973  \n",
       "2                   41        3841  \n",
       "3                   17        1421  \n",
       "4                   11         836  "
      ]
     },
     "execution_count": 5,
     "metadata": {},
     "output_type": "execute_result"
    }
   ],
   "source": [
    "# Verificar a base de dados\n",
    "Base_Dados.head()"
   ]
  },
  {
   "cell_type": "code",
   "execution_count": 6,
   "id": "110903e5",
   "metadata": {},
   "outputs": [],
   "source": [
    "# Removendo colunas\n",
    "Base_Dados.drop(columns=['fire insurance (R$)', 'total (R$)'], inplace=True)"
   ]
  },
  {
   "cell_type": "code",
   "execution_count": 7,
   "id": "f275fe44",
   "metadata": {},
   "outputs": [
    {
     "data": {
      "text/plain": [
       "(10692, 11)"
      ]
     },
     "execution_count": 7,
     "metadata": {},
     "output_type": "execute_result"
    }
   ],
   "source": [
    "# Verificação pós retirada das colunas\n",
    "Base_Dados.shape"
   ]
  },
  {
   "cell_type": "code",
   "execution_count": 8,
   "id": "b5b5b663",
   "metadata": {},
   "outputs": [
    {
     "data": {
      "text/plain": [
       "city                 0\n",
       "area                 0\n",
       "rooms                0\n",
       "bathroom             0\n",
       "parking spaces       0\n",
       "floor                0\n",
       "animal               0\n",
       "furniture            0\n",
       "hoa (R$)             0\n",
       "rent amount (R$)     0\n",
       "property tax (R$)    0\n",
       "dtype: int64"
      ]
     },
     "execution_count": 8,
     "metadata": {},
     "output_type": "execute_result"
    }
   ],
   "source": [
    "# Campos vazios somados e ordenados na ordem decrescente.\n",
    "Base_Dados.isnull().sum().sort_values( ascending=False)"
   ]
  },
  {
   "cell_type": "code",
   "execution_count": 9,
   "id": "15141044",
   "metadata": {},
   "outputs": [
    {
     "data": {
      "text/plain": [
       "city                    5\n",
       "area                  517\n",
       "rooms                  11\n",
       "bathroom               10\n",
       "parking spaces         11\n",
       "floor                  35\n",
       "animal                  2\n",
       "furniture               2\n",
       "hoa (R$)             1679\n",
       "rent amount (R$)     1195\n",
       "property tax (R$)    1243\n",
       "dtype: int64"
      ]
     },
     "execution_count": 9,
     "metadata": {},
     "output_type": "execute_result"
    }
   ],
   "source": [
    "# Campos únicos\n",
    "Base_Dados.nunique()"
   ]
  },
  {
   "cell_type": "code",
   "execution_count": 10,
   "id": "a45dbebd",
   "metadata": {},
   "outputs": [
    {
     "name": "stdout",
     "output_type": "stream",
     "text": [
      "<class 'pandas.core.frame.DataFrame'>\n",
      "RangeIndex: 10692 entries, 0 to 10691\n",
      "Data columns (total 11 columns):\n",
      " #   Column             Non-Null Count  Dtype \n",
      "---  ------             --------------  ----- \n",
      " 0   city               10692 non-null  object\n",
      " 1   area               10692 non-null  int64 \n",
      " 2   rooms              10692 non-null  int64 \n",
      " 3   bathroom           10692 non-null  int64 \n",
      " 4   parking spaces     10692 non-null  int64 \n",
      " 5   floor              10692 non-null  object\n",
      " 6   animal             10692 non-null  object\n",
      " 7   furniture          10692 non-null  object\n",
      " 8   hoa (R$)           10692 non-null  int64 \n",
      " 9   rent amount (R$)   10692 non-null  int64 \n",
      " 10  property tax (R$)  10692 non-null  int64 \n",
      "dtypes: int64(7), object(4)\n",
      "memory usage: 919.0+ KB\n"
     ]
    }
   ],
   "source": [
    "# Tipos das colunas\n",
    "Base_Dados.info()"
   ]
  },
  {
   "cell_type": "code",
   "execution_count": 11,
   "id": "8e70ca71",
   "metadata": {},
   "outputs": [
    {
     "data": {
      "text/plain": [
       "int64     7\n",
       "object    4\n",
       "dtype: int64"
      ]
     },
     "execution_count": 11,
     "metadata": {},
     "output_type": "execute_result"
    }
   ],
   "source": [
    "# Contagem do tipo de colunas\n",
    "Base_Dados.dtypes.value_counts()"
   ]
  },
  {
   "cell_type": "markdown",
   "id": "ec4b431b",
   "metadata": {},
   "source": [
    "# **Exploração Analítica (EDA)**"
   ]
  },
  {
   "cell_type": "code",
   "execution_count": 12,
   "id": "acbfe387",
   "metadata": {},
   "outputs": [
    {
     "data": {
      "text/plain": [
       "(Index(['city', 'floor', 'animal', 'furniture'], dtype='object'),\n",
       " Index(['area', 'rooms', 'bathroom', 'parking spaces', 'hoa (R$)',\n",
       "        'rent amount (R$)', 'property tax (R$)'],\n",
       "       dtype='object'))"
      ]
     },
     "execution_count": 12,
     "metadata": {},
     "output_type": "execute_result"
    }
   ],
   "source": [
    "# Filtrar os tipos de colunas\n",
    "Colunas_Categoricas = Base_Dados.columns[ Base_Dados.dtypes == object ]\n",
    "Colunas_Numericas = Base_Dados.columns[ Base_Dados.dtypes != object ]\n",
    "\n",
    "Colunas_Categoricas, Colunas_Numericas"
   ]
  },
  {
   "cell_type": "code",
   "execution_count": 13,
   "id": "ab88afb3",
   "metadata": {},
   "outputs": [
    {
     "data": {
      "text/plain": [
       "São Paulo         55.059858\n",
       "Rio de Janeiro    14.038533\n",
       "Belo Horizonte    11.765806\n",
       "Porto Alegre      11.157875\n",
       "Campinas           7.977927\n",
       "Name: city, dtype: float64"
      ]
     },
     "execution_count": 13,
     "metadata": {},
     "output_type": "execute_result"
    }
   ],
   "source": [
    "# Analise dos campos objetos percentual\n",
    "Base_Dados['city'].value_counts( normalize=True ) * 100"
   ]
  },
  {
   "cell_type": "code",
   "execution_count": 14,
   "id": "b8b3ef35",
   "metadata": {},
   "outputs": [
    {
     "name": "stdout",
     "output_type": "stream",
     "text": [
      "city \n",
      " São Paulo         55.059858\n",
      "Rio de Janeiro    14.038533\n",
      "Belo Horizonte    11.765806\n",
      "Porto Alegre      11.157875\n",
      "Campinas           7.977927\n",
      "Name: city, dtype: float64 \n",
      "\n",
      "floor \n",
      " -      23.017209\n",
      "1      10.110363\n",
      "2       9.212495\n",
      "3       8.707445\n",
      "4       6.995885\n",
      "5       5.611672\n",
      "6       5.041152\n",
      "7       4.648335\n",
      "8       4.582866\n",
      "9       3.451178\n",
      "10      3.338945\n",
      "11      2.833895\n",
      "12      2.403666\n",
      "13      1.870557\n",
      "14      1.589974\n",
      "15      1.374860\n",
      "16      1.019454\n",
      "17      0.897868\n",
      "18      0.701459\n",
      "19      0.495698\n",
      "20      0.411523\n",
      "21      0.392817\n",
      "25      0.233820\n",
      "23      0.233820\n",
      "22      0.224467\n",
      "26      0.187056\n",
      "24      0.177703\n",
      "27      0.074822\n",
      "28      0.056117\n",
      "29      0.046764\n",
      "32      0.018706\n",
      "35      0.009353\n",
      "46      0.009353\n",
      "301     0.009353\n",
      "51      0.009353\n",
      "Name: floor, dtype: float64 \n",
      "\n",
      "animal \n",
      " acept        77.777778\n",
      "not acept    22.222222\n",
      "Name: animal, dtype: float64 \n",
      "\n",
      "furniture \n",
      " not furnished    75.626637\n",
      "furnished        24.373363\n",
      "Name: furniture, dtype: float64 \n",
      "\n"
     ]
    }
   ],
   "source": [
    "# Loop\n",
    "for Coluna in Colunas_Categoricas:\n",
    "    \n",
    "    # Fazendo a analisse\n",
    "    Analise = Base_Dados[Coluna].value_counts( normalize=True ) * 100\n",
    "    \n",
    "    # Mostrando\n",
    "    print( Coluna, '\\n', Analise, '\\n')"
   ]
  },
  {
   "cell_type": "code",
   "execution_count": 15,
   "id": "d6c44153",
   "metadata": {},
   "outputs": [
    {
     "data": {
      "text/html": [
       "<div>\n",
       "<style scoped>\n",
       "    .dataframe tbody tr th:only-of-type {\n",
       "        vertical-align: middle;\n",
       "    }\n",
       "\n",
       "    .dataframe tbody tr th {\n",
       "        vertical-align: top;\n",
       "    }\n",
       "\n",
       "    .dataframe thead th {\n",
       "        text-align: right;\n",
       "    }\n",
       "</style>\n",
       "<table border=\"1\" class=\"dataframe\">\n",
       "  <thead>\n",
       "    <tr style=\"text-align: right;\">\n",
       "      <th></th>\n",
       "      <th>city</th>\n",
       "      <th>area</th>\n",
       "      <th>rooms</th>\n",
       "      <th>bathroom</th>\n",
       "      <th>parking spaces</th>\n",
       "      <th>floor</th>\n",
       "      <th>animal</th>\n",
       "      <th>furniture</th>\n",
       "      <th>hoa (R$)</th>\n",
       "      <th>rent amount (R$)</th>\n",
       "      <th>property tax (R$)</th>\n",
       "    </tr>\n",
       "  </thead>\n",
       "  <tbody>\n",
       "    <tr>\n",
       "      <th>0</th>\n",
       "      <td>São Paulo</td>\n",
       "      <td>70</td>\n",
       "      <td>2</td>\n",
       "      <td>1</td>\n",
       "      <td>1</td>\n",
       "      <td>7</td>\n",
       "      <td>acept</td>\n",
       "      <td>furnished</td>\n",
       "      <td>2065</td>\n",
       "      <td>3300</td>\n",
       "      <td>211</td>\n",
       "    </tr>\n",
       "    <tr>\n",
       "      <th>1</th>\n",
       "      <td>São Paulo</td>\n",
       "      <td>320</td>\n",
       "      <td>4</td>\n",
       "      <td>4</td>\n",
       "      <td>0</td>\n",
       "      <td>20</td>\n",
       "      <td>acept</td>\n",
       "      <td>not furnished</td>\n",
       "      <td>1200</td>\n",
       "      <td>4960</td>\n",
       "      <td>1750</td>\n",
       "    </tr>\n",
       "    <tr>\n",
       "      <th>2</th>\n",
       "      <td>Porto Alegre</td>\n",
       "      <td>80</td>\n",
       "      <td>1</td>\n",
       "      <td>1</td>\n",
       "      <td>1</td>\n",
       "      <td>6</td>\n",
       "      <td>acept</td>\n",
       "      <td>not furnished</td>\n",
       "      <td>1000</td>\n",
       "      <td>2800</td>\n",
       "      <td>0</td>\n",
       "    </tr>\n",
       "    <tr>\n",
       "      <th>3</th>\n",
       "      <td>Porto Alegre</td>\n",
       "      <td>51</td>\n",
       "      <td>2</td>\n",
       "      <td>1</td>\n",
       "      <td>0</td>\n",
       "      <td>2</td>\n",
       "      <td>acept</td>\n",
       "      <td>not furnished</td>\n",
       "      <td>270</td>\n",
       "      <td>1112</td>\n",
       "      <td>22</td>\n",
       "    </tr>\n",
       "    <tr>\n",
       "      <th>4</th>\n",
       "      <td>São Paulo</td>\n",
       "      <td>25</td>\n",
       "      <td>1</td>\n",
       "      <td>1</td>\n",
       "      <td>0</td>\n",
       "      <td>1</td>\n",
       "      <td>not acept</td>\n",
       "      <td>not furnished</td>\n",
       "      <td>0</td>\n",
       "      <td>800</td>\n",
       "      <td>25</td>\n",
       "    </tr>\n",
       "  </tbody>\n",
       "</table>\n",
       "</div>"
      ],
      "text/plain": [
       "           city  area  rooms  bathroom  parking spaces  floor     animal  \\\n",
       "0     São Paulo    70      2         1               1      7      acept   \n",
       "1     São Paulo   320      4         4               0     20      acept   \n",
       "2  Porto Alegre    80      1         1               1      6      acept   \n",
       "3  Porto Alegre    51      2         1               0      2      acept   \n",
       "4     São Paulo    25      1         1               0      1  not acept   \n",
       "\n",
       "       furniture  hoa (R$)  rent amount (R$)  property tax (R$)  \n",
       "0      furnished      2065              3300                211  \n",
       "1  not furnished      1200              4960               1750  \n",
       "2  not furnished      1000              2800                  0  \n",
       "3  not furnished       270              1112                 22  \n",
       "4  not furnished         0               800                 25  "
      ]
     },
     "execution_count": 15,
     "metadata": {},
     "output_type": "execute_result"
    }
   ],
   "source": [
    "### Correção nos dados\n",
    "\n",
    "# Ajustando o andar 301\n",
    "Base_Dados.loc[ Base_Dados['floor'] == '301']\n",
    "Base_Dados.iloc[ 2562, 5 ] = 30\n",
    "\n",
    "# Ajustar o '-'\n",
    "Base_Dados['floor'] = Base_Dados['floor'].apply( lambda Registro : 0 if Registro == '-' else Registro )\n",
    "Base_Dados['floor'] = pd.to_numeric( Base_Dados['floor'] )\n",
    "\n",
    "# Verificar\n",
    "Base_Dados.head()"
   ]
  },
  {
   "cell_type": "code",
   "execution_count": 16,
   "id": "3774f0ba",
   "metadata": {},
   "outputs": [
    {
     "data": {
      "text/plain": [
       "7"
      ]
     },
     "execution_count": 16,
     "metadata": {},
     "output_type": "execute_result"
    }
   ],
   "source": [
    "len( Colunas_Numericas)"
   ]
  },
  {
   "cell_type": "code",
   "execution_count": 17,
   "id": "9cb24c17",
   "metadata": {},
   "outputs": [
    {
     "data": {
      "image/png": "[encoded data removed]",
      "text/plain": [
       "<Figure size 1440x2160 with 14 Axes>"
      ]
     },
     "metadata": {},
     "output_type": "display_data"
    }
   ],
   "source": [
    "# Grid - Gráficos\n",
    "\n",
    "# Tamanho\n",
    "Figura, Eixo = plt.subplots( figsize=(20, 30) )\n",
    "\n",
    "# Cor de fundo\n",
    "Cor_Fundo = '#f5f5f5'\n",
    "Figura.set_facecolor( Cor_Fundo )\n",
    "\n",
    "# Paleta de Cores\n",
    "Paleta_Cores = sns.color_palette( 'flare', len(Colunas_Numericas) * 2 )\n",
    "\n",
    "# Titulo\n",
    "plt.suptitle('Análise das Variaveis Numericas', fontsize=22, color='#404040', fontweight=600 )\n",
    "\n",
    "# Estrutura\n",
    "Linhas = 7 # (Todas as infos numericas)\n",
    "Colunas = 2 #( Boxplot - Distplot)\n",
    "Posicao = 1 # Posicao inicial do grid\n",
    "\n",
    "# Loop para plotar os gráficos\n",
    "for Coluna in Colunas_Numericas:\n",
    "\n",
    "  # Plot no Grid -- Boxplot\n",
    "  plt.subplot( Linhas, Colunas, Posicao )\n",
    "\n",
    "  # Titulo\n",
    "  plt.title( f'{Coluna}', loc='left', fontsize=14, fontweight=200 )\n",
    "\n",
    "  # Plot\n",
    "  sns.boxplot( data=Base_Dados, y=Coluna, showmeans=True, saturation=0.75, \n",
    "              linewidth=1, color=Paleta_Cores[Posicao], width=0.25 )\n",
    "\n",
    "  # Mudar\n",
    "  Posicao += 1\n",
    "\n",
    "  # Plot no Grid -- Distplot\n",
    "  plt.subplot( Linhas, Colunas, Posicao )\n",
    "\n",
    "  # Titulo\n",
    "  plt.title( f'{Coluna}', loc='left', fontsize=14, fontweight=200 )\n",
    "\n",
    "  # Plot\n",
    "  sns.distplot( Base_Dados[Coluna], color=Paleta_Cores[ Posicao - 1 ] )\n",
    "\n",
    "  # Mudar\n",
    "  Posicao += 1\n",
    "\n",
    "# Ajute de Grid\n",
    "plt.subplots_adjust( top=0.95, hspace=0.3 )"
   ]
  },
  {
   "cell_type": "markdown",
   "id": "b820c535",
   "metadata": {},
   "source": [
    "# **Engenharia de Features**"
   ]
  },
  {
   "cell_type": "code",
   "execution_count": 18,
   "id": "3ce77523",
   "metadata": {},
   "outputs": [
    {
     "data": {
      "text/html": [
       "<div>\n",
       "<style scoped>\n",
       "    .dataframe tbody tr th:only-of-type {\n",
       "        vertical-align: middle;\n",
       "    }\n",
       "\n",
       "    .dataframe tbody tr th {\n",
       "        vertical-align: top;\n",
       "    }\n",
       "\n",
       "    .dataframe thead th {\n",
       "        text-align: right;\n",
       "    }\n",
       "</style>\n",
       "<table border=\"1\" class=\"dataframe\">\n",
       "  <thead>\n",
       "    <tr style=\"text-align: right;\">\n",
       "      <th></th>\n",
       "      <th>city</th>\n",
       "      <th>area</th>\n",
       "      <th>rooms</th>\n",
       "      <th>bathroom</th>\n",
       "      <th>parking spaces</th>\n",
       "      <th>floor</th>\n",
       "      <th>animal</th>\n",
       "      <th>furniture</th>\n",
       "      <th>hoa (R$)</th>\n",
       "      <th>rent amount (R$)</th>\n",
       "      <th>property tax (R$)</th>\n",
       "    </tr>\n",
       "  </thead>\n",
       "  <tbody>\n",
       "    <tr>\n",
       "      <th>0</th>\n",
       "      <td>São Paulo</td>\n",
       "      <td>70</td>\n",
       "      <td>2</td>\n",
       "      <td>1</td>\n",
       "      <td>1</td>\n",
       "      <td>7</td>\n",
       "      <td>1</td>\n",
       "      <td>1</td>\n",
       "      <td>2065</td>\n",
       "      <td>3300</td>\n",
       "      <td>211</td>\n",
       "    </tr>\n",
       "    <tr>\n",
       "      <th>1</th>\n",
       "      <td>São Paulo</td>\n",
       "      <td>320</td>\n",
       "      <td>4</td>\n",
       "      <td>4</td>\n",
       "      <td>0</td>\n",
       "      <td>20</td>\n",
       "      <td>1</td>\n",
       "      <td>0</td>\n",
       "      <td>1200</td>\n",
       "      <td>4960</td>\n",
       "      <td>1750</td>\n",
       "    </tr>\n",
       "    <tr>\n",
       "      <th>4</th>\n",
       "      <td>São Paulo</td>\n",
       "      <td>25</td>\n",
       "      <td>1</td>\n",
       "      <td>1</td>\n",
       "      <td>0</td>\n",
       "      <td>1</td>\n",
       "      <td>0</td>\n",
       "      <td>0</td>\n",
       "      <td>0</td>\n",
       "      <td>800</td>\n",
       "      <td>25</td>\n",
       "    </tr>\n",
       "    <tr>\n",
       "      <th>5</th>\n",
       "      <td>São Paulo</td>\n",
       "      <td>376</td>\n",
       "      <td>3</td>\n",
       "      <td>3</td>\n",
       "      <td>7</td>\n",
       "      <td>0</td>\n",
       "      <td>1</td>\n",
       "      <td>0</td>\n",
       "      <td>0</td>\n",
       "      <td>8000</td>\n",
       "      <td>834</td>\n",
       "    </tr>\n",
       "    <tr>\n",
       "      <th>7</th>\n",
       "      <td>São Paulo</td>\n",
       "      <td>213</td>\n",
       "      <td>4</td>\n",
       "      <td>4</td>\n",
       "      <td>4</td>\n",
       "      <td>4</td>\n",
       "      <td>1</td>\n",
       "      <td>0</td>\n",
       "      <td>2254</td>\n",
       "      <td>3223</td>\n",
       "      <td>1735</td>\n",
       "    </tr>\n",
       "  </tbody>\n",
       "</table>\n",
       "</div>"
      ],
      "text/plain": [
       "        city  area  rooms  bathroom  parking spaces  floor  animal  furniture  \\\n",
       "0  São Paulo    70      2         1               1      7       1          1   \n",
       "1  São Paulo   320      4         4               0     20       1          0   \n",
       "4  São Paulo    25      1         1               0      1       0          0   \n",
       "5  São Paulo   376      3         3               7      0       1          0   \n",
       "7  São Paulo   213      4         4               4      4       1          0   \n",
       "\n",
       "   hoa (R$)  rent amount (R$)  property tax (R$)  \n",
       "0      2065              3300                211  \n",
       "1      1200              4960               1750  \n",
       "4         0               800                 25  \n",
       "5         0              8000                834  \n",
       "7      2254              3223               1735  "
      ]
     },
     "execution_count": 18,
     "metadata": {},
     "output_type": "execute_result"
    }
   ],
   "source": [
    "# Ajuste das colunas categoricas\n",
    "Base_Dados['animal'] = Base_Dados['animal'].map( {'acept':1, 'not acept':0} )\n",
    "Base_Dados['furniture'] = Base_Dados['furniture'].map( {'furnished':1, 'not furnished':0} )\n",
    "\n",
    "# Filtrar a Cidade de São Paulo\n",
    "Filtro_SP = Base_Dados.loc[ Base_Dados['city'] == 'São Paulo']\n",
    "\n",
    "# Verificar\n",
    "Filtro_SP.head()"
   ]
  },
  {
   "cell_type": "code",
   "execution_count": 19,
   "id": "acc87088",
   "metadata": {},
   "outputs": [],
   "source": [
    "# Retirando a Coluna Cidade\n",
    "Filtro_SP.drop( columns=['city'], inplace=True)"
   ]
  },
  {
   "cell_type": "code",
   "execution_count": 20,
   "id": "b3c38083",
   "metadata": {},
   "outputs": [
    {
     "data": {
      "text/plain": [
       "((5887, 9), (5887,))"
      ]
     },
     "execution_count": 20,
     "metadata": {},
     "output_type": "execute_result"
    }
   ],
   "source": [
    "# Separa os dados\n",
    "Caracteristicas = Filtro_SP.drop( columns=['rent amount (R$)'] )\n",
    "Previsor = Filtro_SP['rent amount (R$)']\n",
    "\n",
    "# Verificar\n",
    "Caracteristicas.shape, Previsor.shape"
   ]
  },
  {
   "cell_type": "code",
   "execution_count": 21,
   "id": "e0df604f",
   "metadata": {},
   "outputs": [
    {
     "data": {
      "text/html": [
       "<div>\n",
       "<style scoped>\n",
       "    .dataframe tbody tr th:only-of-type {\n",
       "        vertical-align: middle;\n",
       "    }\n",
       "\n",
       "    .dataframe tbody tr th {\n",
       "        vertical-align: top;\n",
       "    }\n",
       "\n",
       "    .dataframe thead th {\n",
       "        text-align: right;\n",
       "    }\n",
       "</style>\n",
       "<table border=\"1\" class=\"dataframe\">\n",
       "  <thead>\n",
       "    <tr style=\"text-align: right;\">\n",
       "      <th></th>\n",
       "      <th>area</th>\n",
       "      <th>rooms</th>\n",
       "      <th>bathroom</th>\n",
       "      <th>parking spaces</th>\n",
       "      <th>floor</th>\n",
       "      <th>animal</th>\n",
       "      <th>furniture</th>\n",
       "      <th>hoa (R$)</th>\n",
       "      <th>property tax (R$)</th>\n",
       "    </tr>\n",
       "  </thead>\n",
       "  <tbody>\n",
       "    <tr>\n",
       "      <th>0</th>\n",
       "      <td>70</td>\n",
       "      <td>2</td>\n",
       "      <td>1</td>\n",
       "      <td>1</td>\n",
       "      <td>7</td>\n",
       "      <td>1</td>\n",
       "      <td>1</td>\n",
       "      <td>2065</td>\n",
       "      <td>211</td>\n",
       "    </tr>\n",
       "    <tr>\n",
       "      <th>1</th>\n",
       "      <td>320</td>\n",
       "      <td>4</td>\n",
       "      <td>4</td>\n",
       "      <td>0</td>\n",
       "      <td>20</td>\n",
       "      <td>1</td>\n",
       "      <td>0</td>\n",
       "      <td>1200</td>\n",
       "      <td>1750</td>\n",
       "    </tr>\n",
       "    <tr>\n",
       "      <th>4</th>\n",
       "      <td>25</td>\n",
       "      <td>1</td>\n",
       "      <td>1</td>\n",
       "      <td>0</td>\n",
       "      <td>1</td>\n",
       "      <td>0</td>\n",
       "      <td>0</td>\n",
       "      <td>0</td>\n",
       "      <td>25</td>\n",
       "    </tr>\n",
       "    <tr>\n",
       "      <th>5</th>\n",
       "      <td>376</td>\n",
       "      <td>3</td>\n",
       "      <td>3</td>\n",
       "      <td>7</td>\n",
       "      <td>0</td>\n",
       "      <td>1</td>\n",
       "      <td>0</td>\n",
       "      <td>0</td>\n",
       "      <td>834</td>\n",
       "    </tr>\n",
       "    <tr>\n",
       "      <th>7</th>\n",
       "      <td>213</td>\n",
       "      <td>4</td>\n",
       "      <td>4</td>\n",
       "      <td>4</td>\n",
       "      <td>4</td>\n",
       "      <td>1</td>\n",
       "      <td>0</td>\n",
       "      <td>2254</td>\n",
       "      <td>1735</td>\n",
       "    </tr>\n",
       "  </tbody>\n",
       "</table>\n",
       "</div>"
      ],
      "text/plain": [
       "   area  rooms  bathroom  parking spaces  floor  animal  furniture  hoa (R$)  \\\n",
       "0    70      2         1               1      7       1          1      2065   \n",
       "1   320      4         4               0     20       1          0      1200   \n",
       "4    25      1         1               0      1       0          0         0   \n",
       "5   376      3         3               7      0       1          0         0   \n",
       "7   213      4         4               4      4       1          0      2254   \n",
       "\n",
       "   property tax (R$)  \n",
       "0                211  \n",
       "1               1750  \n",
       "4                 25  \n",
       "5                834  \n",
       "7               1735  "
      ]
     },
     "execution_count": 21,
     "metadata": {},
     "output_type": "execute_result"
    }
   ],
   "source": [
    "# Caracteristicas\n",
    "Caracteristicas.head()"
   ]
  },
  {
   "cell_type": "code",
   "execution_count": 22,
   "id": "34b97017",
   "metadata": {},
   "outputs": [
    {
     "data": {
      "text/plain": [
       "0    3300\n",
       "1    4960\n",
       "4     800\n",
       "5    8000\n",
       "7    3223\n",
       "Name: rent amount (R$), dtype: int64"
      ]
     },
     "execution_count": 22,
     "metadata": {},
     "output_type": "execute_result"
    }
   ],
   "source": [
    "# Previsor\n",
    "Previsor.head()"
   ]
  },
  {
   "cell_type": "code",
   "execution_count": 23,
   "id": "6a324935",
   "metadata": {},
   "outputs": [
    {
     "data": {
      "text/html": [
       "<div>\n",
       "<style scoped>\n",
       "    .dataframe tbody tr th:only-of-type {\n",
       "        vertical-align: middle;\n",
       "    }\n",
       "\n",
       "    .dataframe tbody tr th {\n",
       "        vertical-align: top;\n",
       "    }\n",
       "\n",
       "    .dataframe thead th {\n",
       "        text-align: right;\n",
       "    }\n",
       "</style>\n",
       "<table border=\"1\" class=\"dataframe\">\n",
       "  <thead>\n",
       "    <tr style=\"text-align: right;\">\n",
       "      <th></th>\n",
       "      <th>area</th>\n",
       "      <th>rooms</th>\n",
       "      <th>bathroom</th>\n",
       "      <th>parking spaces</th>\n",
       "      <th>floor</th>\n",
       "      <th>animal</th>\n",
       "      <th>furniture</th>\n",
       "      <th>hoa (R$)</th>\n",
       "      <th>rent amount (R$)</th>\n",
       "      <th>property tax (R$)</th>\n",
       "    </tr>\n",
       "  </thead>\n",
       "  <tbody>\n",
       "    <tr>\n",
       "      <th>area</th>\n",
       "      <td>1.000000</td>\n",
       "      <td>0.306863</td>\n",
       "      <td>0.316543</td>\n",
       "      <td>0.300795</td>\n",
       "      <td>-0.038790</td>\n",
       "      <td>0.073565</td>\n",
       "      <td>-0.018145</td>\n",
       "      <td>0.056091</td>\n",
       "      <td>0.274749</td>\n",
       "      <td>0.065289</td>\n",
       "    </tr>\n",
       "    <tr>\n",
       "      <th>rooms</th>\n",
       "      <td>0.306863</td>\n",
       "      <td>1.000000</td>\n",
       "      <td>0.759432</td>\n",
       "      <td>0.645041</td>\n",
       "      <td>-0.092117</td>\n",
       "      <td>0.213963</td>\n",
       "      <td>-0.088931</td>\n",
       "      <td>0.136343</td>\n",
       "      <td>0.537622</td>\n",
       "      <td>0.071702</td>\n",
       "    </tr>\n",
       "    <tr>\n",
       "      <th>bathroom</th>\n",
       "      <td>0.316543</td>\n",
       "      <td>0.759432</td>\n",
       "      <td>1.000000</td>\n",
       "      <td>0.703530</td>\n",
       "      <td>-0.015503</td>\n",
       "      <td>0.159097</td>\n",
       "      <td>0.005864</td>\n",
       "      <td>0.163205</td>\n",
       "      <td>0.638924</td>\n",
       "      <td>0.101616</td>\n",
       "    </tr>\n",
       "    <tr>\n",
       "      <th>parking spaces</th>\n",
       "      <td>0.300795</td>\n",
       "      <td>0.645041</td>\n",
       "      <td>0.703530</td>\n",
       "      <td>1.000000</td>\n",
       "      <td>-0.038378</td>\n",
       "      <td>0.165253</td>\n",
       "      <td>-0.015155</td>\n",
       "      <td>0.115951</td>\n",
       "      <td>0.573373</td>\n",
       "      <td>0.092362</td>\n",
       "    </tr>\n",
       "    <tr>\n",
       "      <th>floor</th>\n",
       "      <td>-0.038790</td>\n",
       "      <td>-0.092117</td>\n",
       "      <td>-0.015503</td>\n",
       "      <td>-0.038378</td>\n",
       "      <td>1.000000</td>\n",
       "      <td>-0.014202</td>\n",
       "      <td>0.135180</td>\n",
       "      <td>0.107211</td>\n",
       "      <td>0.065294</td>\n",
       "      <td>0.005672</td>\n",
       "    </tr>\n",
       "    <tr>\n",
       "      <th>animal</th>\n",
       "      <td>0.073565</td>\n",
       "      <td>0.213963</td>\n",
       "      <td>0.159097</td>\n",
       "      <td>0.165253</td>\n",
       "      <td>-0.014202</td>\n",
       "      <td>1.000000</td>\n",
       "      <td>-0.066208</td>\n",
       "      <td>0.020575</td>\n",
       "      <td>0.107147</td>\n",
       "      <td>-0.005308</td>\n",
       "    </tr>\n",
       "    <tr>\n",
       "      <th>furniture</th>\n",
       "      <td>-0.018145</td>\n",
       "      <td>-0.088931</td>\n",
       "      <td>0.005864</td>\n",
       "      <td>-0.015155</td>\n",
       "      <td>0.135180</td>\n",
       "      <td>-0.066208</td>\n",
       "      <td>1.000000</td>\n",
       "      <td>0.042860</td>\n",
       "      <td>0.154316</td>\n",
       "      <td>-0.007852</td>\n",
       "    </tr>\n",
       "    <tr>\n",
       "      <th>hoa (R$)</th>\n",
       "      <td>0.056091</td>\n",
       "      <td>0.136343</td>\n",
       "      <td>0.163205</td>\n",
       "      <td>0.115951</td>\n",
       "      <td>0.107211</td>\n",
       "      <td>0.020575</td>\n",
       "      <td>0.042860</td>\n",
       "      <td>1.000000</td>\n",
       "      <td>0.188147</td>\n",
       "      <td>0.028872</td>\n",
       "    </tr>\n",
       "    <tr>\n",
       "      <th>rent amount (R$)</th>\n",
       "      <td>0.274749</td>\n",
       "      <td>0.537622</td>\n",
       "      <td>0.638924</td>\n",
       "      <td>0.573373</td>\n",
       "      <td>0.065294</td>\n",
       "      <td>0.107147</td>\n",
       "      <td>0.154316</td>\n",
       "      <td>0.188147</td>\n",
       "      <td>1.000000</td>\n",
       "      <td>0.091749</td>\n",
       "    </tr>\n",
       "    <tr>\n",
       "      <th>property tax (R$)</th>\n",
       "      <td>0.065289</td>\n",
       "      <td>0.071702</td>\n",
       "      <td>0.101616</td>\n",
       "      <td>0.092362</td>\n",
       "      <td>0.005672</td>\n",
       "      <td>-0.005308</td>\n",
       "      <td>-0.007852</td>\n",
       "      <td>0.028872</td>\n",
       "      <td>0.091749</td>\n",
       "      <td>1.000000</td>\n",
       "    </tr>\n",
       "  </tbody>\n",
       "</table>\n",
       "</div>"
      ],
      "text/plain": [
       "                       area     rooms  bathroom  parking spaces     floor  \\\n",
       "area               1.000000  0.306863  0.316543        0.300795 -0.038790   \n",
       "rooms              0.306863  1.000000  0.759432        0.645041 -0.092117   \n",
       "bathroom           0.316543  0.759432  1.000000        0.703530 -0.015503   \n",
       "parking spaces     0.300795  0.645041  0.703530        1.000000 -0.038378   \n",
       "floor             -0.038790 -0.092117 -0.015503       -0.038378  1.000000   \n",
       "animal             0.073565  0.213963  0.159097        0.165253 -0.014202   \n",
       "furniture         -0.018145 -0.088931  0.005864       -0.015155  0.135180   \n",
       "hoa (R$)           0.056091  0.136343  0.163205        0.115951  0.107211   \n",
       "rent amount (R$)   0.274749  0.537622  0.638924        0.573373  0.065294   \n",
       "property tax (R$)  0.065289  0.071702  0.101616        0.092362  0.005672   \n",
       "\n",
       "                     animal  furniture  hoa (R$)  rent amount (R$)  \\\n",
       "area               0.073565  -0.018145  0.056091          0.274749   \n",
       "rooms              0.213963  -0.088931  0.136343          0.537622   \n",
       "bathroom           0.159097   0.005864  0.163205          0.638924   \n",
       "parking spaces     0.165253  -0.015155  0.115951          0.573373   \n",
       "floor             -0.014202   0.135180  0.107211          0.065294   \n",
       "animal             1.000000  -0.066208  0.020575          0.107147   \n",
       "furniture         -0.066208   1.000000  0.042860          0.154316   \n",
       "hoa (R$)           0.020575   0.042860  1.000000          0.188147   \n",
       "rent amount (R$)   0.107147   0.154316  0.188147          1.000000   \n",
       "property tax (R$) -0.005308  -0.007852  0.028872          0.091749   \n",
       "\n",
       "                   property tax (R$)  \n",
       "area                        0.065289  \n",
       "rooms                       0.071702  \n",
       "bathroom                    0.101616  \n",
       "parking spaces              0.092362  \n",
       "floor                       0.005672  \n",
       "animal                     -0.005308  \n",
       "furniture                  -0.007852  \n",
       "hoa (R$)                    0.028872  \n",
       "rent amount (R$)            0.091749  \n",
       "property tax (R$)           1.000000  "
      ]
     },
     "execution_count": 23,
     "metadata": {},
     "output_type": "execute_result"
    }
   ],
   "source": [
    "# Correlação\n",
    "Filtro_SP.corr()\n",
    "\n",
    "# Proxima de 1 - Corelação Positiva [ Ambas Sobem ]\n",
    "# Proxima de -1 - Corelação Negativa [ Uma sobe outra desce ]"
   ]
  },
  {
   "cell_type": "code",
   "execution_count": 24,
   "id": "11d9479d",
   "metadata": {
    "scrolled": true
   },
   "outputs": [
    {
     "name": "stdout",
     "output_type": "stream",
     "text": [
      "Defaulting to user installation because normal site-packages is not writeable\n",
      "Requirement already satisfied: yellowbrick in /home/treviit/.local/lib/python3.10/site-packages (1.5)\n",
      "Requirement already satisfied: matplotlib!=3.0.0,>=2.0.2 in /home/treviit/.local/lib/python3.10/site-packages (from yellowbrick) (3.6.0)\n",
      "Requirement already satisfied: scipy>=1.0.0 in /home/treviit/.local/lib/python3.10/site-packages (from yellowbrick) (1.9.1)\n",
      "Requirement already satisfied: cycler>=0.10.0 in /home/treviit/.local/lib/python3.10/site-packages (from yellowbrick) (0.11.0)\n",
      "Requirement already satisfied: scikit-learn>=1.0.0 in /home/treviit/.local/lib/python3.10/site-packages (from yellowbrick) (1.1.1)\n",
      "Requirement already satisfied: numpy>=1.16.0 in /home/treviit/.local/lib/python3.10/site-packages (from yellowbrick) (1.23.3)\n",
      "Requirement already satisfied: pillow>=6.2.0 in /home/treviit/.local/lib/python3.10/site-packages (from matplotlib!=3.0.0,>=2.0.2->yellowbrick) (9.2.0)\n",
      "Requirement already satisfied: kiwisolver>=1.0.1 in /home/treviit/.local/lib/python3.10/site-packages (from matplotlib!=3.0.0,>=2.0.2->yellowbrick) (1.4.4)\n",
      "Requirement already satisfied: pyparsing>=2.2.1 in /usr/lib/python3/dist-packages (from matplotlib!=3.0.0,>=2.0.2->yellowbrick) (2.4.7)\n",
      "Requirement already satisfied: fonttools>=4.22.0 in /home/treviit/.local/lib/python3.10/site-packages (from matplotlib!=3.0.0,>=2.0.2->yellowbrick) (4.37.2)\n",
      "Requirement already satisfied: contourpy>=1.0.1 in /home/treviit/.local/lib/python3.10/site-packages (from matplotlib!=3.0.0,>=2.0.2->yellowbrick) (1.0.5)\n",
      "Requirement already satisfied: python-dateutil>=2.7 in /home/treviit/.local/lib/python3.10/site-packages (from matplotlib!=3.0.0,>=2.0.2->yellowbrick) (2.8.2)\n",
      "Requirement already satisfied: packaging>=20.0 in /home/treviit/.local/lib/python3.10/site-packages (from matplotlib!=3.0.0,>=2.0.2->yellowbrick) (21.3)\n",
      "Requirement already satisfied: joblib>=1.0.0 in /home/treviit/.local/lib/python3.10/site-packages (from scikit-learn>=1.0.0->yellowbrick) (1.1.0)\n",
      "Requirement already satisfied: threadpoolctl>=2.0.0 in /home/treviit/.local/lib/python3.10/site-packages (from scikit-learn>=1.0.0->yellowbrick) (3.1.0)\n",
      "Requirement already satisfied: six>=1.5 in /usr/lib/python3/dist-packages (from python-dateutil>=2.7->matplotlib!=3.0.0,>=2.0.2->yellowbrick) (1.16.0)\n",
      "Note: you may need to restart the kernel to use updated packages.\n"
     ]
    }
   ],
   "source": [
    "pip install yellowbrick"
   ]
  },
  {
   "cell_type": "code",
   "execution_count": 25,
   "id": "f41e0d47",
   "metadata": {},
   "outputs": [
    {
     "data": {
      "image/png": "[encoded data removed]",
      "text/plain": [
       "<Figure size 576x396 with 2 Axes>"
      ]
     },
     "metadata": {},
     "output_type": "display_data"
    },
    {
     "data": {
      "text/plain": [
       "<AxesSubplot: title={'center': 'Pearson Ranking of 9 Features'}>"
      ]
     },
     "execution_count": 25,
     "metadata": {},
     "output_type": "execute_result"
    }
   ],
   "source": [
    "# Yellowbrick\n",
    "from yellowbrick.features import Rank2D\n",
    "\n",
    "# Definir o metodo\n",
    "Correlacao = Rank2D( algoritimo='pearsson' )\n",
    "\n",
    "# Filtrar função\n",
    "Correlacao.fit ( Caracteristicas, Previsor )\n",
    "Correlacao.transform( Caracteristicas )\n",
    "Correlacao.show()"
   ]
  },
  {
   "cell_type": "code",
   "execution_count": 26,
   "id": "a3d67a10",
   "metadata": {},
   "outputs": [
    {
     "name": "stdout",
     "output_type": "stream",
     "text": [
      "Dados de Treino: 4709\n",
      "Dados de Teste: 1178\n"
     ]
    }
   ],
   "source": [
    "# Separa os dados\n",
    "from sklearn.model_selection import train_test_split\n",
    "\n",
    "# Divisão dos dados\n",
    "x_treino, x_teste, y_treino, y_teste = train_test_split(\n",
    "    Caracteristicas, Previsor, test_size=0.2, random_state=10\n",
    ")\n",
    "\n",
    "print(f'Dados de Treino: { x_treino.shape[0] }')\n",
    "print(f'Dados de Teste: { x_teste.shape[0] }')"
   ]
  },
  {
   "cell_type": "code",
   "execution_count": 27,
   "id": "77df36f4",
   "metadata": {},
   "outputs": [
    {
     "name": "stdout",
     "output_type": "stream",
     "text": [
      " area : 0.07329587697455686\n",
      " rooms : 0.24109632793224112\n",
      " bathroom : 0.305816146233429\n",
      " parking spaces : 0.23340808007484393\n",
      " floor : 0.03019503873756557\n",
      " animal : 0.02477759099823862\n",
      " furniture : 0.05089740686227495\n",
      " hoa (R$) : 0.05498804458011497\n",
      " property tax (R$) : 0.16261854952482047\n"
     ]
    }
   ],
   "source": [
    "# Features mais relevantes\n",
    "from sklearn.feature_selection import mutual_info_regression\n",
    "from sklearn.feature_selection import SelectKBest\n",
    "\n",
    "# Selecao de features\n",
    "def Selecao_Features( x_treino, y_treino ):\n",
    "\n",
    "  # Configurar para selecionar as features\n",
    "  Selecao = SelectKBest( score_func=mutual_info_regression, k=5 )\n",
    "\n",
    "  # Fitar o aprendizado\n",
    "  Selecao.fit( x_treino, y_treino )\n",
    "\n",
    "  return Selecao\n",
    "\n",
    "# Aplicar essa função\n",
    "Scores = Selecao_Features( x_treino, y_treino )\n",
    "\n",
    "# Analisar\n",
    "for Posicao, Score in enumerate( Scores.scores_ ):\n",
    "  print( f' { x_treino.columns[Posicao] } : {Score}' )"
   ]
  },
  {
   "cell_type": "markdown",
   "id": "8b4b394c",
   "metadata": {},
   "source": [
    "# **Construção do Modelo**"
   ]
  },
  {
   "cell_type": "code",
   "execution_count": 29,
   "id": "4afd09aa",
   "metadata": {},
   "outputs": [
    {
     "data": {
      "text/html": [
       "<style>#sk-container-id-1 {color: black;background-color: white;}#sk-container-id-1 pre{padding: 0;}#sk-container-id-1 div.sk-toggleable {background-color: white;}#sk-container-id-1 label.sk-toggleable__label {cursor: pointer;display: block;width: 100%;margin-bottom: 0;padding: 0.3em;box-sizing: border-box;text-align: center;}#sk-container-id-1 label.sk-toggleable__label-arrow:before {content: \"▸\";float: left;margin-right: 0.25em;color: #696969;}#sk-container-id-1 label.sk-toggleable__label-arrow:hover:before {color: black;}#sk-container-id-1 div.sk-estimator:hover label.sk-toggleable__label-arrow:before {color: black;}#sk-container-id-1 div.sk-toggleable__content {max-height: 0;max-width: 0;overflow: hidden;text-align: left;background-color: #f0f8ff;}#sk-container-id-1 div.sk-toggleable__content pre {margin: 0.2em;color: black;border-radius: 0.25em;background-color: #f0f8ff;}#sk-container-id-1 input.sk-toggleable__control:checked~div.sk-toggleable__content {max-height: 200px;max-width: 100%;overflow: auto;}#sk-container-id-1 input.sk-toggleable__control:checked~label.sk-toggleable__label-arrow:before {content: \"▾\";}#sk-container-id-1 div.sk-estimator input.sk-toggleable__control:checked~label.sk-toggleable__label {background-color: #d4ebff;}#sk-container-id-1 div.sk-label input.sk-toggleable__control:checked~label.sk-toggleable__label {background-color: #d4ebff;}#sk-container-id-1 input.sk-hidden--visually {border: 0;clip: rect(1px 1px 1px 1px);clip: rect(1px, 1px, 1px, 1px);height: 1px;margin: -1px;overflow: hidden;padding: 0;position: absolute;width: 1px;}#sk-container-id-1 div.sk-estimator {font-family: monospace;background-color: #f0f8ff;border: 1px dotted black;border-radius: 0.25em;box-sizing: border-box;margin-bottom: 0.5em;}#sk-container-id-1 div.sk-estimator:hover {background-color: #d4ebff;}#sk-container-id-1 div.sk-parallel-item::after {content: \"\";width: 100%;border-bottom: 1px solid gray;flex-grow: 1;}#sk-container-id-1 div.sk-label:hover label.sk-toggleable__label {background-color: #d4ebff;}#sk-container-id-1 div.sk-serial::before {content: \"\";position: absolute;border-left: 1px solid gray;box-sizing: border-box;top: 0;bottom: 0;left: 50%;z-index: 0;}#sk-container-id-1 div.sk-serial {display: flex;flex-direction: column;align-items: center;background-color: white;padding-right: 0.2em;padding-left: 0.2em;position: relative;}#sk-container-id-1 div.sk-item {position: relative;z-index: 1;}#sk-container-id-1 div.sk-parallel {display: flex;align-items: stretch;justify-content: center;background-color: white;position: relative;}#sk-container-id-1 div.sk-item::before, #sk-container-id-1 div.sk-parallel-item::before {content: \"\";position: absolute;border-left: 1px solid gray;box-sizing: border-box;top: 0;bottom: 0;left: 50%;z-index: -1;}#sk-container-id-1 div.sk-parallel-item {display: flex;flex-direction: column;z-index: 1;position: relative;background-color: white;}#sk-container-id-1 div.sk-parallel-item:first-child::after {align-self: flex-end;width: 50%;}#sk-container-id-1 div.sk-parallel-item:last-child::after {align-self: flex-start;width: 50%;}#sk-container-id-1 div.sk-parallel-item:only-child::after {width: 0;}#sk-container-id-1 div.sk-dashed-wrapped {border: 1px dashed gray;margin: 0 0.4em 0.5em 0.4em;box-sizing: border-box;padding-bottom: 0.4em;background-color: white;}#sk-container-id-1 div.sk-label label {font-family: monospace;font-weight: bold;display: inline-block;line-height: 1.2em;}#sk-container-id-1 div.sk-label-container {text-align: center;}#sk-container-id-1 div.sk-container {/* jupyter's `normalize.less` sets `[hidden] { display: none; }` but bootstrap.min.css set `[hidden] { display: none !important; }` so we also need the `!important` here to be able to override the default hidden behavior on the sphinx rendered scikit-learn.org. See: https://github.com/scikit-learn/scikit-learn/issues/21755 */display: inline-block !important;position: relative;}#sk-container-id-1 div.sk-text-repr-fallback {display: none;}</style><div id=\"sk-container-id-1\" class=\"sk-top-container\"><div class=\"sk-text-repr-fallback\"><pre>RandomForestRegressor(max_depth=5)</pre><b>In a Jupyter environment, please rerun this cell to show the HTML representation or trust the notebook. <br />On GitHub, the HTML representation is unable to render, please try loading this page with nbviewer.org.</b></div><div class=\"sk-container\" hidden><div class=\"sk-item\"><div class=\"sk-estimator sk-toggleable\"><input class=\"sk-toggleable__control sk-hidden--visually\" id=\"sk-estimator-id-1\" type=\"checkbox\" checked><label for=\"sk-estimator-id-1\" class=\"sk-toggleable__label sk-toggleable__label-arrow\">RandomForestRegressor</label><div class=\"sk-toggleable__content\"><pre>RandomForestRegressor(max_depth=5)</pre></div></div></div></div></div>"
      ],
      "text/plain": [
       "RandomForestRegressor(max_depth=5)"
      ]
     },
     "execution_count": 29,
     "metadata": {},
     "output_type": "execute_result"
    }
   ],
   "source": [
    "# Modelo Random Forest Regreassion\n",
    "from sklearn.ensemble import RandomForestRegressor\n",
    "\n",
    "# Instanciar\n",
    "Modelo_Floresta = RandomForestRegressor( max_depth=5 )\n",
    "\n",
    "# Fitar\n",
    "Modelo_Floresta.fit( x_treino, y_treino )"
   ]
  },
  {
   "cell_type": "code",
   "execution_count": 30,
   "id": "0c368e14",
   "metadata": {},
   "outputs": [
    {
     "name": "stdout",
     "output_type": "stream",
     "text": [
      "RMSE: 2460.6841143118245\n",
      "Score: 0.5617686837380611\n"
     ]
    }
   ],
   "source": [
    "# Avaliar a performance\n",
    "Previsoes = Modelo_Floresta.predict( x_teste )\n",
    "\n",
    "# Função para avaliar\n",
    "from sklearn.metrics import mean_squared_error, r2_score\n",
    "from math import sqrt\n",
    "\n",
    "print(f'RMSE: { sqrt(mean_squared_error( y_teste, Previsoes ))}')\n",
    "print(f'Score: { r2_score( y_teste, Previsoes)}')"
   ]
  },
  {
   "cell_type": "code",
   "execution_count": 32,
   "id": "81d8c529",
   "metadata": {},
   "outputs": [
    {
     "data": {
      "image/png": "[encoded data removed]",
      "text/plain": [
       "<Figure size 576x396 with 1 Axes>"
      ]
     },
     "metadata": {},
     "output_type": "display_data"
    },
    {
     "data": {
      "text/plain": [
       "<AxesSubplot: title={'center': 'Prediction Error for RandomForestRegressor'}, xlabel='$y$', ylabel='$\\\\hat{y}$'>"
      ]
     },
     "execution_count": 32,
     "metadata": {},
     "output_type": "execute_result"
    }
   ],
   "source": [
    "# Avaliando Yellowbrick\n",
    "from yellowbrick.regressor import PredictionError\n",
    "\n",
    "# Instanciar\n",
    "Modelo = RandomForestRegressor( max_depth=5 )\n",
    "Erro_Modelo = PredictionError( Modelo )\n",
    "\n",
    "# Fitar\n",
    "Erro_Modelo.fit( x_treino, y_treino )\n",
    "Erro_Modelo.score( x_treino, y_treino )\n",
    "Erro_Modelo.show()"
   ]
  },
  {
   "cell_type": "markdown",
   "id": "1423991a",
   "metadata": {},
   "source": [
    "# **Exportação**"
   ]
  },
  {
   "cell_type": "code",
   "execution_count": 35,
   "id": "ff507785",
   "metadata": {},
   "outputs": [
    {
     "name": "stdout",
     "output_type": "stream",
     "text": [
      "Defaulting to user installation because normal site-packages is not writeable\n",
      "Requirement already satisfied: joblib in /home/treviit/.local/lib/python3.10/site-packages (1.1.0)\n",
      "Note: you may need to restart the kernel to use updated packages.\n"
     ]
    }
   ],
   "source": [
    "pip install joblib"
   ]
  },
  {
   "cell_type": "code",
   "execution_count": 36,
   "id": "bde2ad38",
   "metadata": {},
   "outputs": [
    {
     "data": {
      "text/plain": [
       "['Modelo_Floresta_Aleatorio_v100.pkl']"
      ]
     },
     "execution_count": 36,
     "metadata": {},
     "output_type": "execute_result"
    }
   ],
   "source": [
    "# Exportando o modelo\n",
    "import joblib\n",
    "\n",
    "# Função\n",
    "joblib.dump( Modelo_Floresta, 'Modelo_Floresta_Aleatorio_v100.pkl')"
   ]
  },
  {
   "cell_type": "code",
   "execution_count": 37,
   "id": "5e0277b7",
   "metadata": {},
   "outputs": [],
   "source": [
    "# Testando o modelo treinado\n",
    "Funcao_Modelo_Carregado = joblib.load('Modelo_Floresta_Aleatorio_v100.pkl')"
   ]
  },
  {
   "cell_type": "code",
   "execution_count": 38,
   "id": "71f57b52",
   "metadata": {},
   "outputs": [
    {
     "data": {
      "text/plain": [
       "array([1512.08526142])"
      ]
     },
     "execution_count": 38,
     "metadata": {},
     "output_type": "execute_result"
    }
   ],
   "source": [
    "# Tesstando\n",
    "Funcao_Modelo_Carregado.predict( x_teste.head(1).values )"
   ]
  },
  {
   "cell_type": "code",
   "execution_count": 39,
   "id": "a62fced0",
   "metadata": {},
   "outputs": [
    {
     "data": {
      "text/plain": [
       "array([[ 25,   1,   1,   0,   0,   0,   0,   0,  84],\n",
       "       [480,   4,   5,   3,   0,   1,   0,   0, 742]])"
      ]
     },
     "execution_count": 39,
     "metadata": {},
     "output_type": "execute_result"
    }
   ],
   "source": [
    "x_teste.head(2).values"
   ]
  }
 ],
 "metadata": {
  "kernelspec": {
   "display_name": "Python 3 (ipykernel)",
   "language": "python",
   "name": "python3"
  },
  "language_info": {
   "codemirror_mode": {
    "name": "ipython",
    "version": 3
   },
   "file_extension": ".py",
   "mimetype": "text/x-python",
   "name": "python",
   "nbconvert_exporter": "python",
   "pygments_lexer": "ipython3",
   "version": "3.10.4"
  }
 },
 "nbformat": 4,
 "nbformat_minor": 5
}
