{
 "cells": [
  {
   "cell_type": "code",
   "execution_count": 1,
   "id": "5a7f88f1",
   "metadata": {},
   "outputs": [],
   "source": [
    "# Nosso sistema de conexão com a API"
   ]
  },
  {
   "cell_type": "code",
   "execution_count": 2,
   "id": "a2926bf8",
   "metadata": {},
   "outputs": [],
   "source": [
    "# Conexões\n",
    "import requests"
   ]
  },
  {
   "cell_type": "code",
   "execution_count": 32,
   "id": "61209c97",
   "metadata": {},
   "outputs": [
    {
     "data": {
      "text/plain": [
       "{'Valor_Aluguel': '[2413.36354648]'}"
      ]
     },
     "execution_count": 32,
     "metadata": {},
     "output_type": "execute_result"
    }
   ],
   "source": [
    "# Local da URL\n",
    "Url = 'http://127.0.0.1:5000/API_Preditivo/80;4;5;3;0;1;0;0;742'\n",
    "\n",
    "# Acessar a conexão\n",
    "Consulta = requests.get( Url )\n",
    "\n",
    "# Buscar a info\n",
    "Resposta = Consulta.json()\n",
    "\n",
    "# Devolução\n",
    "Resposta"
   ]
  },
  {
   "cell_type": "code",
   "execution_count": null,
   "id": "7c9fb9a6",
   "metadata": {},
   "outputs": [],
   "source": []
  }
 ],
 "metadata": {
  "kernelspec": {
   "display_name": "Python 3",
   "language": "python",
   "name": "python3"
  },
  "language_info": {
   "codemirror_mode": {
    "name": "ipython",
    "version": 3
   },
   "file_extension": ".py",
   "mimetype": "text/x-python",
   "name": "python",
   "nbconvert_exporter": "python",
   "pygments_lexer": "ipython3",
   "version": "3.8.8"
  }
 },
 "nbformat": 4,
 "nbformat_minor": 5
}
