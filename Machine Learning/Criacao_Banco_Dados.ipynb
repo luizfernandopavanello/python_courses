{
 "cells": [
  {
   "cell_type": "code",
   "execution_count": 1,
   "id": "a6f0eda5",
   "metadata": {},
   "outputs": [],
   "source": [
    "# Lib para banco de dados\n",
    "import sqlite3"
   ]
  },
  {
   "cell_type": "code",
   "execution_count": 2,
   "id": "a3c92704",
   "metadata": {},
   "outputs": [],
   "source": [
    "# Criar o banco [ Caso exista faz a conexao else conecta no banco ]\n",
    "Conexao_Banco = sqlite3.connect('Banco_Dados_API.db')"
   ]
  },
  {
   "cell_type": "code",
   "execution_count": 3,
   "id": "2e07ad57",
   "metadata": {},
   "outputs": [],
   "source": [
    "# Apontar para o banco\n",
    "Cursor = Conexao_Banco.cursor()"
   ]
  },
  {
   "cell_type": "code",
   "execution_count": null,
   "id": "f0ca6ac0",
   "metadata": {},
   "outputs": [],
   "source": [
    "# Query --> Criar uma tabela\n",
    "\n",
    "Query_Criar_Banco = '''\n",
    "CREATE TABLE Log_API (\n",
    "    id INTEGER NOT NULL PRIMARY KEY AUTOINCREMENT,\n",
    "    Inputs TEXT,\n",
    "    Inicio TEXT,\n",
    "    Fim TEXT,\n",
    "    Processamento TEXT\n",
    ")\n",
    "'''\n",
    "\n",
    "# Executando a Query\n",
    "Cursor.execute( Query_Criar_Banco )"
   ]
  },
  {
   "cell_type": "code",
   "execution_count": null,
   "id": "836c469f",
   "metadata": {},
   "outputs": [],
   "source": [
    "# Query --> Inserir informação\n",
    "\n",
    "Query_Inserir = '''\n",
    "    INSERT INTO Log_API ( Inputs, Inicio, Fim, Processamento )\n",
    "    VALUES ( '480;4;5;3;0;1;0;0;742', '01/01/2000 19:00:01', '01/01/2000 19:00:02', '00:01' )\n",
    "'''\n",
    "\n",
    "# Executando a Query\n",
    "Cursor.execute( Query_Inserir )\n",
    "\n",
    "# Commit\n",
    "Conexao_Banco.commit()"
   ]
  },
  {
   "cell_type": "code",
   "execution_count": 6,
   "id": "026439c2",
   "metadata": {},
   "outputs": [
    {
     "data": {
      "text/plain": [
       "[(1,\n",
       "  '480;4;5;3;0;1;0;0;742',\n",
       "  '01/01/2000 19:00:01',\n",
       "  '01/01/2000 19:00:02',\n",
       "  '00:01'),\n",
       " (2,\n",
       "  '480;4;5;3;0;1;0;0;742',\n",
       "  '01/01/2000 19:00:01',\n",
       "  '01/01/2000 19:00:02',\n",
       "  '00:01'),\n",
       " (3,\n",
       "  '480;4;5;3;0;1;0;0;742',\n",
       "  '01/01/2000 19:00:01',\n",
       "  '01/01/2000 19:00:02',\n",
       "  '00:01'),\n",
       " (4,\n",
       "  '480;4;5;3;0;1;0;0;742',\n",
       "  '01/01/2000 19:00:01',\n",
       "  '01/01/2000 19:00:02',\n",
       "  '00:01'),\n",
       " (5, 'Odemir', 'Odemir', 'Odemir', 'Odemir'),\n",
       " (6, 'Odemir', '2022-09-13 21:13:41.552398', 'Odemir', 'Odemir'),\n",
       " (7,\n",
       "  'Odemir',\n",
       "  '2022-09-13 21:13:53.945575',\n",
       "  '2022-09-13 21:13:53.968574',\n",
       "  '0:00:00.022999'),\n",
       " (8,\n",
       "  '480.0',\n",
       "  '2022-09-13 21:15:21.332727',\n",
       "  '2022-09-13 21:15:21.345725',\n",
       "  '0:00:00.012998'),\n",
       " (9,\n",
       "  ';480.0;4.0;5.0;3.0;0.0;1.0;0.0;0.0;742.0;[9092.4058806]',\n",
       "  '2022-09-13 21:16:38.083018',\n",
       "  '2022-09-13 21:16:38.096020',\n",
       "  '0:00:00.013002'),\n",
       " (10,\n",
       "  ';480.0;4.0;5.0;3.0;0.0;1.0;0.0;0.0;742.0;[9092.4058806]',\n",
       "  '2022-09-13 21:16:48.251269',\n",
       "  '2022-09-13 21:16:48.265262',\n",
       "  '0:00:00.013993'),\n",
       " (11,\n",
       "  ';480.0;4.0;5.0;3.0;0.0;1.0;0.0;0.0;742.0;[9092.4058806]',\n",
       "  '2022-09-13 22:47:20.430044',\n",
       "  '2022-09-13 22:47:20.451047',\n",
       "  '0:00:00.021003'),\n",
       " (12,\n",
       "  ';550.0;4.0;5.0;3.0;0.0;1.0;0.0;0.0;742.0;[9189.91777029]',\n",
       "  '2022-09-13 22:48:18.592299',\n",
       "  '2022-09-13 22:48:18.618299',\n",
       "  '0:00:00.026000'),\n",
       " (13,\n",
       "  ';80.0;4.0;5.0;3.0;0.0;1.0;0.0;0.0;742.0;[2413.36354648]',\n",
       "  '2022-09-13 22:49:39.025177',\n",
       "  '2022-09-13 22:49:39.049174',\n",
       "  '0:00:00.023997')]"
      ]
     },
     "execution_count": 6,
     "metadata": {},
     "output_type": "execute_result"
    }
   ],
   "source": [
    "# Query --> Consulta\n",
    "\n",
    "Query_Consulta = '''\n",
    "    SELECT * FROM Log_API\n",
    "'''\n",
    "\n",
    "# Executando a Query\n",
    "Cursor.execute( Query_Consulta ).fetchall()"
   ]
  },
  {
   "cell_type": "code",
   "execution_count": null,
   "id": "a9fd17f7",
   "metadata": {},
   "outputs": [],
   "source": [
    "# Nuvem --> VM --> Hospedagem\n",
    "\n",
    "# Fotogtafia "
   ]
  }
 ],
 "metadata": {
  "kernelspec": {
   "display_name": "Python 3",
   "language": "python",
   "name": "python3"
  },
  "language_info": {
   "codemirror_mode": {
    "name": "ipython",
    "version": 3
   },
   "file_extension": ".py",
   "mimetype": "text/x-python",
   "name": "python",
   "nbconvert_exporter": "python",
   "pygments_lexer": "ipython3",
   "version": "3.8.8"
  }
 },
 "nbformat": 4,
 "nbformat_minor": 5
}
